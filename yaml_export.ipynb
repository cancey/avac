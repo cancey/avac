{
 "cells": [
  {
   "cell_type": "code",
   "execution_count": 13,
   "metadata": {},
   "outputs": [],
   "source": [
    "import yaml\n",
    "import numpy as np\n",
    "from pathlib import Path\n",
    "import datetime\n",
    "import glob, os\n",
    "# get the current date and time\n",
    "now = datetime.datetime.now()\n",
    "\n"
   ]
  },
  {
   "cell_type": "code",
   "execution_count": null,
   "metadata": {},
   "outputs": [
    {
     "name": "stdout",
     "output_type": "stream",
     "text": [
      "* Raster files in current directory:\n",
      "new_raster2.asc\n",
      "inclined_plane.asc\n",
      "\n",
      "* Shapefiles in current directory:\n",
      "ZA_1.shp\n",
      "ZA.shp\n"
     ]
    }
   ],
   "source": [
    "\n",
    "\n",
    "# List all .asc files in current directory\n",
    "shape_files  = list(Path('.').glob('*.shp'))\n",
    "raster_files = list(Path('.').glob('*.asc'))\n",
    "\n",
    "print(\"* Raster files in current directory:\")\n",
    "for file in raster_files:\n",
    "    print(file.name)\n",
    "print()\n",
    "print(\"* Shapefiles in current directory:\")\n",
    "for file in shape_files:\n",
    "    print(file.name)\n",
    "\n",
    "raster_files_names = [raster.name for raster in raster_files]\n",
    "shape_files_names  = [shapef.name for shapef in shape_files]"
   ]
  },
  {
   "cell_type": "code",
   "execution_count": 27,
   "metadata": {},
   "outputs": [],
   "source": [
    "release     = {'d0':1,'correction_slope':True,'correction_elevation':True,'nu':0.2,\\\n",
    "               'theta_cr':30,'gradient_hypso':0.03,'z_ref':1800}\n",
    "\n",
    "rheology    = {'model':'Voellmy','rho':400,'mu':0.27,'xi':200,'u_cr':0.1,'beta':1.1}\n",
    "\n",
    "topography  = {'dem':'inclined_plane.asc','starting_areas':'ZA.shp'}\n",
    "\n",
    "computation = {'t_max':180,'nb_simul':10,'dry_limit':0.01,'cfl_target':0.5,'cfl_max':1,\\\n",
    "               'refinement':1,'max_iter':100000, 'domain_cell':2,'boundary':'extrap',\\\n",
    "                'output_directory':'_output'}\n",
    "\n",
    "output      = {'delta_t':1,'output_format':'binary32','verbosity':0}\n",
    "\n",
    "animation   = {'n_out':60,'variable':'depth'}\n",
    "\n",
    "date = {'date':now}\n",
    "if not topography['dem'] in raster_files_names: print(f\"Be careful: selected DEM {topography['dem']} is not in the working directory\")\n",
    "if not topography['starting_areas'] in shape_files_names: print(f\"Be careful: selected Shapefil {topography['starting_areas']} is not in the working directory\")\n",
    " "
   ]
  },
  {
   "cell_type": "code",
   "execution_count": 28,
   "metadata": {},
   "outputs": [
    {
     "name": "stdout",
     "output_type": "stream",
     "text": [
      "Data has been written to AVAC_parameters.yaml\n"
     ]
    }
   ],
   "source": [
    "parameters  = {'release':release,'rheology':rheology,'topography':topography, \n",
    "               'computation':computation,'output':output, 'animation':animation,'date':date}\n",
    "\n",
    "file_name = 'AVAC_parameters.yaml'\n",
    "with open(file_name, 'w') as file:\n",
    "    yaml.dump(parameters, file)\n",
    "\n",
    "print(\"Data has been written to \"+file_name)"
   ]
  },
  {
   "cell_type": "code",
   "execution_count": null,
   "metadata": {},
   "outputs": [],
   "source": []
  }
 ],
 "metadata": {
  "kernelspec": {
   "display_name": "python3.12",
   "language": "python",
   "name": "python3"
  },
  "language_info": {
   "codemirror_mode": {
    "name": "ipython",
    "version": 3
   },
   "file_extension": ".py",
   "mimetype": "text/x-python",
   "name": "python",
   "nbconvert_exporter": "python",
   "pygments_lexer": "ipython3",
   "version": "3.12.3"
  }
 },
 "nbformat": 4,
 "nbformat_minor": 2
}
