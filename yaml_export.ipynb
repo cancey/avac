{
 "cells": [
  {
   "cell_type": "code",
   "execution_count": 1,
   "metadata": {},
   "outputs": [],
   "source": [
    "import yaml"
   ]
  },
  {
   "cell_type": "code",
   "execution_count": 2,
   "metadata": {},
   "outputs": [],
   "source": [
    "release     = {'d0':1,'correction_slope':True,'correction_elevation':True,'nu':0.2,\\\n",
    "               'theta_cr':30,'gradient_hypso':0.03,'z_ref':1800}\n",
    "rheology    = {'model':'Voellmy','rho':400,'mu':0.22,'xi':400,'u_cr':0.1,'beta':1.1}\n",
    "topography  = {'dem':'new_raster2.asc','starting_areas':'ZA_1.shp'}\n",
    "computation = {'t_max':90,'nb_simul':10,'dry_limit':0.01,'cfl_target':0.5,'cfl_max':1,\\\n",
    "               'refinement':1,'max_iter':100000, 'domain_cell':2,'boundary':'extrap',\\\n",
    "                'output_directory':'_output'}\n",
    "output      = {'delta_t':1,'output_format':'binary32','verbosity':0}\n",
    "animation   = {'n_out':45,'variable':'depth'}\n",
    "parameters  = {'release':release,'rheology':rheology,'topography':topography, \n",
    "               'computation':computation,'output':output, 'animation':animation}\n",
    " "
   ]
  },
  {
   "cell_type": "code",
   "execution_count": 3,
   "metadata": {},
   "outputs": [
    {
     "name": "stdout",
     "output_type": "stream",
     "text": [
      "Data has been written to AVAC_parameters.yaml\n"
     ]
    }
   ],
   "source": [
    "file_name = 'AVAC_parameters.yaml'\n",
    "with open(file_name, 'w') as file:\n",
    "    yaml.dump(parameters, file)\n",
    "\n",
    "print(\"Data has been written to \"+file_name)"
   ]
  },
  {
   "cell_type": "code",
   "execution_count": null,
   "metadata": {},
   "outputs": [],
   "source": []
  }
 ],
 "metadata": {
  "kernelspec": {
   "display_name": "python3.12",
   "language": "python",
   "name": "python3"
  },
  "language_info": {
   "codemirror_mode": {
    "name": "ipython",
    "version": 3
   },
   "file_extension": ".py",
   "mimetype": "text/x-python",
   "name": "python",
   "nbconvert_exporter": "python",
   "pygments_lexer": "ipython3",
   "version": "3.12.3"
  }
 },
 "nbformat": 4,
 "nbformat_minor": 2
}
